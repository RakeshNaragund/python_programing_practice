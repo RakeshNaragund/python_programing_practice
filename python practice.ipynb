{
 "cells": [
  {
   "cell_type": "code",
   "execution_count": null,
   "id": "5c4825fa",
   "metadata": {},
   "outputs": [],
   "source": []
  },
  {
   "cell_type": "code",
   "execution_count": null,
   "id": "ec05c93d",
   "metadata": {},
   "outputs": [],
   "source": []
  },
  {
   "cell_type": "code",
   "execution_count": 1,
   "id": "8875a888",
   "metadata": {},
   "outputs": [],
   "source": [
    "# User will input (3ages).Find the oldest one"
   ]
  },
  {
   "cell_type": "code",
   "execution_count": 18,
   "id": "453ba48a",
   "metadata": {
    "scrolled": true
   },
   "outputs": [
    {
     "name": "stdout",
     "output_type": "stream",
     "text": [
      "enter the first age65\n",
      "enter the second age68\n",
      "enter the third age67\n",
      "68\n"
     ]
    }
   ],
   "source": [
    "a=int(input('enter the first age'))\n",
    "b=int(input('enter the second age'))\n",
    "c=int(input('enter the third age'))\n",
    "if a>b and a>c :\n",
    "    print(a)\n",
    "elif b>c:\n",
    "    print(b)\n",
    "else:\n",
    "    print(c)"
   ]
  },
  {
   "cell_type": "code",
   "execution_count": null,
   "id": "d46a3379",
   "metadata": {},
   "outputs": [],
   "source": []
  },
  {
   "cell_type": "code",
   "execution_count": null,
   "id": "bb5247d9",
   "metadata": {},
   "outputs": [],
   "source": []
  },
  {
   "cell_type": "code",
   "execution_count": null,
   "id": "c2b3fc7a",
   "metadata": {},
   "outputs": [],
   "source": []
  },
  {
   "cell_type": "code",
   "execution_count": null,
   "id": "576f4b8a",
   "metadata": {},
   "outputs": [],
   "source": [
    "max(a,b,c)"
   ]
  },
  {
   "cell_type": "code",
   "execution_count": null,
   "id": "0b8b3b2f",
   "metadata": {},
   "outputs": [],
   "source": [
    "min(a,b,c)"
   ]
  },
  {
   "cell_type": "code",
   "execution_count": null,
   "id": "5daba4b0",
   "metadata": {},
   "outputs": [],
   "source": [
    "## Write a program that will convert celsius value to fahrenheit"
   ]
  },
  {
   "cell_type": "code",
   "execution_count": null,
   "id": "5417a438",
   "metadata": {},
   "outputs": [],
   "source": [
    "def cel_to_farnht(temp):\n",
    "    a=(temp*1.8)+32\n",
    "    return a\n",
    "        \n",
    "    "
   ]
  },
  {
   "cell_type": "code",
   "execution_count": null,
   "id": "b8cbb095",
   "metadata": {},
   "outputs": [],
   "source": [
    "w=28\n",
    "cel_to_farnht(w)\n"
   ]
  },
  {
   "cell_type": "code",
   "execution_count": null,
   "id": "2731cbc1",
   "metadata": {},
   "outputs": [],
   "source": [
    "## User will input (2numbers).Write a program to swap the numbers"
   ]
  },
  {
   "cell_type": "code",
   "execution_count": null,
   "id": "ff5b8e6a",
   "metadata": {},
   "outputs": [],
   "source": [
    "a=int(input('enter the first number'))\n",
    "b=int(input('enter the second number'))\n",
    "\n"
   ]
  },
  {
   "cell_type": "code",
   "execution_count": null,
   "id": "d40f13c6",
   "metadata": {},
   "outputs": [],
   "source": [
    "c=a\n",
    "a=b\n",
    "b=c\n",
    "\n",
    "\n"
   ]
  },
  {
   "cell_type": "code",
   "execution_count": null,
   "id": "efe5ea8f",
   "metadata": {},
   "outputs": [],
   "source": [
    "print(a,b)"
   ]
  },
  {
   "cell_type": "code",
   "execution_count": null,
   "id": "4d56567d",
   "metadata": {},
   "outputs": [],
   "source": [
    "## Write a program that will give you the sum of 3 digits"
   ]
  },
  {
   "cell_type": "code",
   "execution_count": null,
   "id": "2a39d2fc",
   "metadata": {},
   "outputs": [],
   "source": [
    "def GetSum(n):\n",
    "    sum=0\n",
    "    for i in str(n):\n",
    "        sum=sum+int(i)\n",
    "    return sum"
   ]
  },
  {
   "cell_type": "code",
   "execution_count": null,
   "id": "e82c25a4",
   "metadata": {},
   "outputs": [],
   "source": [
    "f=555\n",
    "print('sum of digit numbers',GetSum(f))\n"
   ]
  },
  {
   "cell_type": "code",
   "execution_count": null,
   "id": "5be11ede",
   "metadata": {},
   "outputs": [],
   "source": [
    "## Write a program that will reverse a four digit number.Also it checks whether the reverse is true."
   ]
  },
  {
   "cell_type": "code",
   "execution_count": null,
   "id": "e18643c4",
   "metadata": {},
   "outputs": [],
   "source": [
    "num=input(\"Enter the number\")\n",
    "c=len(num)\n",
    "x=0\n",
    "num=int(num)\n",
    "y=num\n",
    "for i in range(c):\n",
    "    x=x*10+num%10\n",
    "    num=num//10\n",
    "if y%10==0:\n",
    "    print(\"0\"+str(x))\n",
    "else:\n",
    "    print(x)\n",
    "        \n",
    "    "
   ]
  },
  {
   "cell_type": "markdown",
   "id": "e382d6d9",
   "metadata": {},
   "source": [
    "          ##  or"
   ]
  },
  {
   "cell_type": "code",
   "execution_count": null,
   "id": "1639aff2",
   "metadata": {},
   "outputs": [],
   "source": [
    "num=input(\"Enter the number\")\n"
   ]
  },
  {
   "cell_type": "code",
   "execution_count": null,
   "id": "f1962374",
   "metadata": {},
   "outputs": [],
   "source": [
    "print(num[::-1])\n",
    "\n"
   ]
  },
  {
   "cell_type": "code",
   "execution_count": null,
   "id": "a6998d43",
   "metadata": {},
   "outputs": [],
   "source": [
    "## Write a program that will tell whether the number entered by the user is odd or even."
   ]
  },
  {
   "cell_type": "code",
   "execution_count": null,
   "id": "06a398db",
   "metadata": {},
   "outputs": [],
   "source": [
    "def odd_even(num):\n",
    "    if (num%2)==0:\n",
    "        print('number is even')\n",
    "    else:\n",
    "        print('number is odd')"
   ]
  },
  {
   "cell_type": "code",
   "execution_count": null,
   "id": "667a415e",
   "metadata": {},
   "outputs": [],
   "source": [
    "num=int(input('enter one number'))\n",
    "odd_even(num)"
   ]
  },
  {
   "cell_type": "code",
   "execution_count": null,
   "id": "b51e132a",
   "metadata": {},
   "outputs": [],
   "source": [
    "### Write a program that will tell whether the given year is a leap year or not."
   ]
  },
  {
   "cell_type": "code",
   "execution_count": null,
   "id": "89df6dc4",
   "metadata": {},
   "outputs": [],
   "source": [
    "year = int(input('Enter year : '))\n",
    " \n",
    "if (year%4 == 0 and year%100 != 0) or (year%400 == 0) :\n",
    "    print(year, \"is a leap year.\")\n",
    "else :\n",
    "    print(year, \"is not a leap year.\")"
   ]
  },
  {
   "cell_type": "code",
   "execution_count": null,
   "id": "28d00baa",
   "metadata": {},
   "outputs": [],
   "source": [
    "## Write a program to find the euclidean distance between two coordinates."
   ]
  },
  {
   "cell_type": "code",
   "execution_count": null,
   "id": "1496a9f4",
   "metadata": {},
   "outputs": [],
   "source": [
    "import numpy as np"
   ]
  },
  {
   "cell_type": "code",
   "execution_count": null,
   "id": "d5db3647",
   "metadata": {},
   "outputs": [],
   "source": [
    "def Euclidean(x1,y1,x2,y2):\n",
    "    d=np.sqrt((((x2-x1)**2)+((y2-y1)**2)))\n",
    "    return d\n",
    "    "
   ]
  },
  {
   "cell_type": "code",
   "execution_count": null,
   "id": "5f28f9bc",
   "metadata": {},
   "outputs": [],
   "source": [
    "print(Euclidean(5,3,4,2))"
   ]
  },
  {
   "cell_type": "code",
   "execution_count": null,
   "id": "f810216e",
   "metadata": {},
   "outputs": [],
   "source": [
    "## Write a program that take a user inputr of three angles and will find out whether it can form a triangle or not."
   ]
  },
  {
   "cell_type": "code",
   "execution_count": null,
   "id": "1f5b5ce6",
   "metadata": {},
   "outputs": [],
   "source": [
    "def Traingle(x,y,z):\n",
    "    if ((x+y+z)==180):\n",
    "        print('it is a trangle')\n",
    "    else:\n",
    "        print('it is not a traingle')"
   ]
  },
  {
   "cell_type": "code",
   "execution_count": null,
   "id": "f0f63e3d",
   "metadata": {},
   "outputs": [],
   "source": [
    "a=30\n",
    "b=60\n",
    "c=60\n",
    "Traingle(a,b,c)"
   ]
  },
  {
   "cell_type": "code",
   "execution_count": 6,
   "id": "0baf4338",
   "metadata": {},
   "outputs": [],
   "source": [
    "## Write a program that will take user input of cost price and selling price and determines whether its a loss or a profit"
   ]
  },
  {
   "cell_type": "code",
   "execution_count": 7,
   "id": "41941bd2",
   "metadata": {},
   "outputs": [],
   "source": [
    "def profitloss(sellprice,costprice):\n",
    "   \n",
    "   return('transaction is in profit' if sellprice > costprice else 'it is loss')"
   ]
  },
  {
   "cell_type": "code",
   "execution_count": 8,
   "id": "70a9d160",
   "metadata": {},
   "outputs": [
    {
     "name": "stdout",
     "output_type": "stream",
     "text": [
      "enter selling price36\n",
      "enter cost price65\n"
     ]
    }
   ],
   "source": [
    "selling_price=int(input('enter selling price'))\n",
    "cost_price=int(input('enter cost price'))"
   ]
  },
  {
   "cell_type": "code",
   "execution_count": 9,
   "id": "1f5627f3",
   "metadata": {},
   "outputs": [
    {
     "name": "stdout",
     "output_type": "stream",
     "text": [
      "it is loss\n"
     ]
    }
   ],
   "source": [
    "print(profitloss(selling_price,cost_price))"
   ]
  },
  {
   "cell_type": "code",
   "execution_count": 10,
   "id": "6a2c0d29",
   "metadata": {},
   "outputs": [],
   "source": [
    "### Write a program to find the simple interest when the value of principle,rate of interest and time period is given."
   ]
  },
  {
   "cell_type": "code",
   "execution_count": 42,
   "id": "797342a2",
   "metadata": {},
   "outputs": [],
   "source": [
    "def simple_interest(p,r,t):\n",
    "    intrst_rate=(p*r*t)/100\n",
    "    return intrst_rate"
   ]
  },
  {
   "cell_type": "code",
   "execution_count": 43,
   "id": "33d23946",
   "metadata": {},
   "outputs": [
    {
     "name": "stdout",
     "output_type": "stream",
     "text": [
      "enter amount30000\n"
     ]
    }
   ],
   "source": [
    "amount=float(input('enter amount'))\n"
   ]
  },
  {
   "cell_type": "code",
   "execution_count": 44,
   "id": "e14e1fb9",
   "metadata": {},
   "outputs": [
    {
     "name": "stdout",
     "output_type": "stream",
     "text": [
      "enter intrst rate8.2\n"
     ]
    }
   ],
   "source": [
    "intrst_rate=float(input('enter intrst rate'))"
   ]
  },
  {
   "cell_type": "code",
   "execution_count": 45,
   "id": "693de043",
   "metadata": {},
   "outputs": [
    {
     "name": "stdout",
     "output_type": "stream",
     "text": [
      "enter year3\n"
     ]
    }
   ],
   "source": [
    "time=float(input('enter year'))"
   ]
  },
  {
   "cell_type": "code",
   "execution_count": 47,
   "id": "556508dd",
   "metadata": {},
   "outputs": [
    {
     "name": "stdout",
     "output_type": "stream",
     "text": [
      "your simple interest rate is 7379.999999999999\n"
     ]
    }
   ],
   "source": [
    "print('your simple interest rate is',simple_interest(amount,intrst_rate,time))"
   ]
  },
  {
   "cell_type": "code",
   "execution_count": null,
   "id": "2f8aeecb",
   "metadata": {},
   "outputs": [],
   "source": [
    "## write a program to find the least positive numer missing from list of input intigers"
   ]
  },
  {
   "cell_type": "code",
   "execution_count": 99,
   "id": "3af8347b",
   "metadata": {},
   "outputs": [],
   "source": [
    "l=[1,-1,3,7,8,0,2,5,-6]\n",
    "j=[]"
   ]
  },
  {
   "cell_type": "code",
   "execution_count": 103,
   "id": "a30e1b33",
   "metadata": {},
   "outputs": [],
   "source": [
    "for num in l:\n",
    "    if num >0 and num+1 not in l:\n",
    "        j.append(num+1)"
   ]
  },
  {
   "cell_type": "code",
   "execution_count": 105,
   "id": "9fae052c",
   "metadata": {},
   "outputs": [
    {
     "data": {
      "text/plain": [
       "4"
      ]
     },
     "execution_count": 105,
     "metadata": {},
     "output_type": "execute_result"
    }
   ],
   "source": [
    "j[0]"
   ]
  },
  {
   "cell_type": "code",
   "execution_count": 144,
   "id": "08d4e482",
   "metadata": {},
   "outputs": [],
   "source": [
    "p=[1,-1,3,7,8,100,2,5,-6]\n",
    "u=[]"
   ]
  },
  {
   "cell_type": "code",
   "execution_count": 145,
   "id": "25d90b8b",
   "metadata": {},
   "outputs": [
    {
     "data": {
      "text/plain": [
       "4"
      ]
     },
     "execution_count": 145,
     "metadata": {},
     "output_type": "execute_result"
    }
   ],
   "source": [
    "for num in p:\n",
    "    if num >=0 and num+1 not in p:\n",
    "        u.append(num+1)\n",
    "u[0]"
   ]
  },
  {
   "cell_type": "code",
   "execution_count": 146,
   "id": "3892d7d6",
   "metadata": {},
   "outputs": [
    {
     "data": {
      "text/plain": [
       "4"
      ]
     },
     "execution_count": 146,
     "metadata": {},
     "output_type": "execute_result"
    }
   ],
   "source": [
    "u[0]"
   ]
  },
  {
   "cell_type": "code",
   "execution_count": 147,
   "id": "c35329ce",
   "metadata": {},
   "outputs": [
    {
     "name": "stdout",
     "output_type": "stream",
     "text": [
      "4\n"
     ]
    }
   ],
   "source": [
    "\n",
    "f= [1,-1,3,7,8,100,2,5,-6]\n",
    "x=False\n",
    "j=1\n",
    "while x!= True:\n",
    "    if j in f:\n",
    "        j=j+1\n",
    "    else:\n",
    "        print(j)\n",
    "        x= True"
   ]
  },
  {
   "cell_type": "code",
   "execution_count": null,
   "id": "b7fa2cfa",
   "metadata": {},
   "outputs": [],
   "source": [
    "## write a program to find the missing value from the list"
   ]
  },
  {
   "cell_type": "code",
   "execution_count": 4,
   "id": "1a44ac11",
   "metadata": {},
   "outputs": [
    {
     "name": "stdout",
     "output_type": "stream",
     "text": [
      "[4, 5, 7, 8]\n"
     ]
    }
   ],
   "source": [
    "def missing_num(lst):\n",
    "    return [x for x in range(lst[0],lst[-1]+1) if x not in lst]\n",
    "lst=[1,2,3,6,9,10]\n",
    "print(missing_num(lst))"
   ]
  },
  {
   "cell_type": "code",
   "execution_count": null,
   "id": "4f63f4ba",
   "metadata": {},
   "outputs": [],
   "source": [
    "## given a string S reverse the string without reversing its individual words"
   ]
  },
  {
   "cell_type": "code",
   "execution_count": null,
   "id": "6c077168",
   "metadata": {},
   "outputs": [],
   "source": [
    "## input:i.like.this.program.very.much\n",
    "## output:much.very.program.this.like.i"
   ]
  },
  {
   "cell_type": "code",
   "execution_count": 41,
   "id": "866351ff",
   "metadata": {},
   "outputs": [
    {
     "data": {
      "text/plain": [
       "'much.very.program.this.like.i'"
      ]
     },
     "execution_count": 41,
     "metadata": {},
     "output_type": "execute_result"
    }
   ],
   "source": [
    "S=\"i.like.this.program.very.much\"\n",
    "'.'.join(S.split('.')[::-1])"
   ]
  },
  {
   "cell_type": "code",
   "execution_count": null,
   "id": "bac72e8f",
   "metadata": {},
   "outputs": [],
   "source": [
    "## Python Code to find the no of occurrences of Character in a String"
   ]
  },
  {
   "cell_type": "code",
   "execution_count": 47,
   "id": "30a68529",
   "metadata": {},
   "outputs": [
    {
     "name": "stdout",
     "output_type": "stream",
     "text": [
      "{'l': 1, 'i': 2, 'n': 2, 'k': 1, 'e': 1, 'd': 1}\n"
     ]
    }
   ],
   "source": [
    "s=\"Linkedin\"\n",
    "s=s.lower()\n",
    "d={}\n",
    "for i in s:\n",
    "    d[i]=0\n",
    "for i in s:\n",
    "    d[i]=d[i]+1\n",
    "print(d)"
   ]
  },
  {
   "cell_type": "code",
   "execution_count": null,
   "id": "b369f5e4",
   "metadata": {},
   "outputs": [],
   "source": [
    "## swiping first and last element of the list"
   ]
  },
  {
   "cell_type": "code",
   "execution_count": 2,
   "id": "fc7a7ad3",
   "metadata": {},
   "outputs": [
    {
     "name": "stdout",
     "output_type": "stream",
     "text": [
      "[24, 35, 9, 56, 12]\n"
     ]
    }
   ],
   "source": [
    "d=[12,35,9,56,24]\n",
    "# output=[24,35,9,56,12]\n",
    "for i in d:\n",
    "    temp=d[0]\n",
    "    d[0]=d[-1]\n",
    "    d[-1]=temp\n",
    "    \n",
    "print(d)"
   ]
  },
  {
   "cell_type": "code",
   "execution_count": null,
   "id": "b8d21854",
   "metadata": {},
   "outputs": [],
   "source": [
    "## use python comprehension method to print even numbers from list"
   ]
  },
  {
   "cell_type": "code",
   "execution_count": 13,
   "id": "248b321d",
   "metadata": {},
   "outputs": [],
   "source": [
    "h=[1,2,3,4,5,6]"
   ]
  },
  {
   "cell_type": "code",
   "execution_count": 14,
   "id": "cec9c5a9",
   "metadata": {},
   "outputs": [],
   "source": [
    "d=[x for x in h if x%2==0]"
   ]
  },
  {
   "cell_type": "code",
   "execution_count": 15,
   "id": "5cbefeab",
   "metadata": {},
   "outputs": [
    {
     "name": "stdout",
     "output_type": "stream",
     "text": [
      "[2, 4, 6]\n"
     ]
    }
   ],
   "source": [
    "print(d)"
   ]
  },
  {
   "cell_type": "code",
   "execution_count": null,
   "id": "dee97805",
   "metadata": {},
   "outputs": [],
   "source": [
    "## check the number is prime or not\n"
   ]
  },
  {
   "cell_type": "code",
   "execution_count": 38,
   "id": "4d8a8d71",
   "metadata": {},
   "outputs": [
    {
     "name": "stdout",
     "output_type": "stream",
     "text": [
      "enter a number2\n"
     ]
    }
   ],
   "source": [
    "num=int(input('enter a number'))\n"
   ]
  },
  {
   "cell_type": "code",
   "execution_count": 39,
   "id": "dc117d10",
   "metadata": {},
   "outputs": [
    {
     "name": "stdout",
     "output_type": "stream",
     "text": [
      "it is a prime number\n"
     ]
    }
   ],
   "source": [
    "count=0\n",
    "if num>1:\n",
    "    \n",
    "    for i in range(1,num+1):\n",
    "        if num%i==0:\n",
    "            count=count+1\n",
    "    if count==2:\n",
    "            print('it is a prime number')\n",
    "    else:\n",
    "            print('it is not')"
   ]
  },
  {
   "cell_type": "code",
   "execution_count": null,
   "id": "ca467f19",
   "metadata": {},
   "outputs": [],
   "source": [
    "##  How To Find Factorial of A Number"
   ]
  },
  {
   "cell_type": "code",
   "execution_count": 41,
   "id": "a0e1c452",
   "metadata": {},
   "outputs": [],
   "source": [
    "def factorial_find(num):\n",
    "    fact_num=1\n",
    "    for i in range (1,num+1):\n",
    "        fact_num=fact_num*i\n",
    "    print(fact_num)\n",
    "        \n",
    "        \n",
    "    "
   ]
  },
  {
   "cell_type": "code",
   "execution_count": 46,
   "id": "e56d4312",
   "metadata": {},
   "outputs": [
    {
     "name": "stdout",
     "output_type": "stream",
     "text": [
      "5040\n"
     ]
    }
   ],
   "source": [
    "factorial_find(7)"
   ]
  },
  {
   "cell_type": "code",
   "execution_count": null,
   "id": "f1e14c9d",
   "metadata": {},
   "outputs": [],
   "source": [
    "## Print Fibonacci Series"
   ]
  },
  {
   "cell_type": "code",
   "execution_count": 52,
   "id": "57fc14fd",
   "metadata": {},
   "outputs": [],
   "source": [
    "a=[]\n",
    "num=10\n",
    "d=0\n",
    "\n",
    "for i in range(0,num+1):\n",
    "    d=d+i\n",
    "    a.append(d)\n",
    "    "
   ]
  },
  {
   "cell_type": "code",
   "execution_count": 49,
   "id": "752e382d",
   "metadata": {},
   "outputs": [
    {
     "data": {
      "text/plain": [
       "[55]"
      ]
     },
     "execution_count": 49,
     "metadata": {},
     "output_type": "execute_result"
    }
   ],
   "source": [
    "a"
   ]
  },
  {
   "cell_type": "code",
   "execution_count": 15,
   "id": "95480f35",
   "metadata": {},
   "outputs": [
    {
     "ename": "KeyError",
     "evalue": "7",
     "output_type": "error",
     "traceback": [
      "\u001b[1;31m---------------------------------------------------------------------------\u001b[0m",
      "\u001b[1;31mKeyError\u001b[0m                                  Traceback (most recent call last)",
      "Cell \u001b[1;32mIn[15], line 11\u001b[0m\n\u001b[0;32m      8\u001b[0m             dictn[target\u001b[39m-\u001b[39mv]\n\u001b[0;32m      9\u001b[0m     \u001b[39mreturn\u001b[39;00m \u001b[39mNone\u001b[39;00m\n\u001b[1;32m---> 11\u001b[0m r\u001b[39m=\u001b[39m(TwoSum([\u001b[39m2\u001b[39;49m,\u001b[39m7\u001b[39;49m,\u001b[39m11\u001b[39;49m,\u001b[39m15\u001b[39;49m],\u001b[39m9\u001b[39;49m))\n\u001b[0;32m     12\u001b[0m \u001b[39mprint\u001b[39m(r) \n",
      "Cell \u001b[1;32mIn[15], line 8\u001b[0m, in \u001b[0;36mTwoSum\u001b[1;34m(nums, target)\u001b[0m\n\u001b[0;32m      6\u001b[0m         \u001b[39mreturn\u001b[39;00m dictn[target\u001b[39m-\u001b[39mv],i\n\u001b[0;32m      7\u001b[0m     \u001b[39melse\u001b[39;00m:\n\u001b[1;32m----> 8\u001b[0m         dictn[target\u001b[39m-\u001b[39;49mv]\n\u001b[0;32m      9\u001b[0m \u001b[39mreturn\u001b[39;00m \u001b[39mNone\u001b[39;00m\n",
      "\u001b[1;31mKeyError\u001b[0m: 7"
     ]
    }
   ],
   "source": [
    "# two_sum\n",
    "def TwoSum(nums:list[int],target:int):\n",
    "    dictn={}\n",
    "    for i,v in enumerate(nums):\n",
    "        if (target-v in dictn):\n",
    "            return dictn[target-v],i\n",
    "        else:\n",
    "            dictn[target-v]\n",
    "    return None\n",
    "\n",
    "r=(TwoSum([2,7,11,15],9))\n",
    "print(r) \n"
   ]
  },
  {
   "cell_type": "code",
   "execution_count": 69,
   "id": "e0fe394e",
   "metadata": {},
   "outputs": [
    {
     "ename": "TypeError",
     "evalue": "'type' object is not subscriptable",
     "output_type": "error",
     "traceback": [
      "\u001b[1;31m---------------------------------------------------------------------------\u001b[0m",
      "\u001b[1;31mTypeError\u001b[0m                                 Traceback (most recent call last)",
      "\u001b[1;32m<ipython-input-69-47380f40517d>\u001b[0m in \u001b[0;36m<module>\u001b[1;34m\u001b[0m\n\u001b[1;32m----> 1\u001b[1;33m \u001b[1;32mdef\u001b[0m \u001b[0mTwoSum\u001b[0m\u001b[1;33m(\u001b[0m\u001b[0mnums\u001b[0m\u001b[1;33m:\u001b[0m\u001b[0mlist\u001b[0m\u001b[1;33m[\u001b[0m\u001b[0mint\u001b[0m\u001b[1;33m]\u001b[0m\u001b[1;33m,\u001b[0m\u001b[0mtarget\u001b[0m\u001b[1;33m:\u001b[0m\u001b[0mint\u001b[0m\u001b[1;33m)\u001b[0m\u001b[1;33m:\u001b[0m\u001b[1;33m\u001b[0m\u001b[1;33m\u001b[0m\u001b[0m\n\u001b[0m\u001b[0;32m      2\u001b[0m     \u001b[0mdictn\u001b[0m\u001b[1;33m=\u001b[0m\u001b[1;33m{\u001b[0m\u001b[1;33m}\u001b[0m\u001b[1;33m\u001b[0m\u001b[1;33m\u001b[0m\u001b[0m\n\u001b[0;32m      3\u001b[0m     \u001b[1;32mfor\u001b[0m \u001b[0mi\u001b[0m\u001b[1;33m,\u001b[0m\u001b[0mv\u001b[0m \u001b[1;32min\u001b[0m \u001b[0menumerate\u001b[0m\u001b[1;33m(\u001b[0m\u001b[0mnums\u001b[0m\u001b[1;33m)\u001b[0m\u001b[1;33m:\u001b[0m\u001b[1;33m\u001b[0m\u001b[1;33m\u001b[0m\u001b[0m\n\u001b[0;32m      4\u001b[0m         \u001b[1;32mif\u001b[0m \u001b[1;33m(\u001b[0m\u001b[0mtarget\u001b[0m\u001b[1;33m-\u001b[0m\u001b[0mv\u001b[0m \u001b[1;32min\u001b[0m \u001b[0mdictn\u001b[0m\u001b[1;33m)\u001b[0m\u001b[1;33m:\u001b[0m\u001b[1;33m\u001b[0m\u001b[1;33m\u001b[0m\u001b[0m\n\u001b[0;32m      5\u001b[0m             \u001b[1;32mreturn\u001b[0m \u001b[0mdictn\u001b[0m\u001b[1;33m[\u001b[0m\u001b[0mtarget\u001b[0m\u001b[1;33m-\u001b[0m\u001b[0mv\u001b[0m\u001b[1;33m]\u001b[0m\u001b[1;33m,\u001b[0m\u001b[0mi\u001b[0m\u001b[1;33m\u001b[0m\u001b[1;33m\u001b[0m\u001b[0m\n",
      "\u001b[1;31mTypeError\u001b[0m: 'type' object is not subscriptable"
     ]
    }
   ],
   "source": [
    "def TwoSum(nums:list[int],target:int):\n",
    "    dictn={}\n",
    "    for i,v in enumerate(nums):\n",
    "        if (target-v in dictn):\n",
    "            return dictn[target-v],i\n",
    "        else:\n",
    "            dictn[v] = i\n",
    "    return None\n",
    "\n",
    "r=(TwoSum([2,7,11,15],9))\n",
    "print(r)\n"
   ]
  },
  {
   "cell_type": "code",
   "execution_count": 52,
   "id": "4e7b59b1",
   "metadata": {},
   "outputs": [
    {
     "name": "stdout",
     "output_type": "stream",
     "text": [
      "['bangalore', 'pune', 'chenai', 'Hydrabad'] city\n",
      "['Rakesh', 'nishanth', 'anand'] name\n"
     ]
    }
   ],
   "source": [
    "dictn={\"city\":[\"bangalore\",\"pune\",\"chenai\",\"Hydrabad\"],\"name\":[\"Rakesh\",\"nishanth\",\"anand\"]}\n",
    "for x in dictn:\n",
    "    print(dictn[x],x)"
   ]
  },
  {
   "cell_type": "code",
   "execution_count": 32,
   "id": "a725ba26",
   "metadata": {},
   "outputs": [
    {
     "name": "stdout",
     "output_type": "stream",
     "text": [
      "995\n"
     ]
    }
   ],
   "source": [
    "def romanToInt(s: str) -> int:\n",
    "    dictn={'I':1,'V':5,'X':10,'L':50,'C':100,'D':500,'M':1000}\n",
    "    prv=0\n",
    "    curr=0\n",
    "    total=0\n",
    "    for i in range(len(s)):\n",
    "        curr=dictn[s[i]]\n",
    "        if curr>prv:\n",
    "            total=curr-prv\n",
    "        else:\n",
    "            total=curr+prv\n",
    "        prv=curr\n",
    "    return total\n",
    "\n",
    "E=romanToInt(\"LVM\")\n",
    "print(E)\n"
   ]
  },
  {
   "cell_type": "code",
   "execution_count": 35,
   "id": "f6915f46",
   "metadata": {},
   "outputs": [
    {
     "name": "stdout",
     "output_type": "stream",
     "text": [
      "58\n"
     ]
    }
   ],
   "source": [
    "def romanToInt(s: str) -> int:\n",
    "    dictn = {'I':1,'V':5,'X':10,'L':50,'C':100,'D':500,'M':1000}\n",
    "    prv = 0\n",
    "    curr = 0\n",
    "    total = 0\n",
    "    for i in range(len(s)):\n",
    "        curr = dictn[s[i]]\n",
    "        if curr > prv:\n",
    "            total += curr - 2 * prv\n",
    "        else:\n",
    "            total += curr\n",
    "        prv = curr\n",
    "    return total\n",
    "\n",
    "E = romanToInt(\"LVIII\")\n",
    "print(E)\n"
   ]
  },
  {
   "cell_type": "code",
   "execution_count": 9,
   "id": "406d431c",
   "metadata": {},
   "outputs": [
    {
     "name": "stdout",
     "output_type": "stream",
     "text": [
      "it is not a palindrome\n",
      "None\n"
     ]
    }
   ],
   "source": [
    "def palindrome(x:int):\n",
    "    rev = 0\n",
    "    temp = x\n",
    "    for i in range(len(str(x))): ## here len(x) will not work becaz len() function will only work for string,list like this\n",
    "        rev = rev * 10 + x % 10\n",
    "        x = x // 10\n",
    "    if rev == temp:\n",
    "        return rev\n",
    "    else:\n",
    "        print(\"it is not a palindrome\")\n",
    "        return None\n",
    "\n",
    "r = palindrome(120)\n",
    "print(r)\n",
    "\n"
   ]
  },
  {
   "cell_type": "code",
   "execution_count": 19,
   "id": "5febe45e",
   "metadata": {},
   "outputs": [
    {
     "name": "stdout",
     "output_type": "stream",
     "text": [
      "FL\n"
     ]
    }
   ],
   "source": [
    "##Longest Common Prefix\n",
    "\n",
    "def LongestCommonPrifix(strs:list[str]):\n",
    "    min_length=len(strs[0])\n",
    "    for i in range(len(strs)):\n",
    "        if min_length<len(strs[i]):\n",
    "            min_length=len(strs[i])\n",
    "    ad=\"\"\n",
    "    for i in range(min_length):\n",
    "        si=strs[0][i]\n",
    "        for j in range(len(strs)):\n",
    "            if strs[j][i]!=si:\n",
    "                return ad\n",
    "        ad=ad+si\n",
    "r=LongestCommonPrifix([\"FLOWER\",\"FLOW\",\"FLIGHT\"])\n",
    "print(r)\n",
    "\n",
    "\n"
   ]
  },
  {
   "cell_type": "code",
   "execution_count": 6,
   "id": "41d1187b",
   "metadata": {},
   "outputs": [
    {
     "ename": "NameError",
     "evalue": "name 'i' is not defined",
     "output_type": "error",
     "traceback": [
      "\u001b[1;31m---------------------------------------------------------------------------\u001b[0m",
      "\u001b[1;31mNameError\u001b[0m                                 Traceback (most recent call last)",
      "\u001b[1;32m<ipython-input-6-579ffc24c0ab>\u001b[0m in \u001b[0;36m<module>\u001b[1;34m\u001b[0m\n\u001b[0;32m      1\u001b[0m \u001b[0mstrs\u001b[0m\u001b[1;33m=\u001b[0m\u001b[1;33m[\u001b[0m\u001b[1;34m\"FLOWER\"\u001b[0m\u001b[1;33m,\u001b[0m\u001b[1;34m\"FLOW\"\u001b[0m\u001b[1;33m,\u001b[0m\u001b[1;34m\"FLIGHT\"\u001b[0m\u001b[1;33m]\u001b[0m\u001b[1;33m\u001b[0m\u001b[1;33m\u001b[0m\u001b[0m\n\u001b[1;32m----> 2\u001b[1;33m \u001b[1;32mfor\u001b[0m \u001b[0mi\u001b[0m \u001b[1;32min\u001b[0m \u001b[0mrange\u001b[0m\u001b[1;33m(\u001b[0m\u001b[0mmin\u001b[0m\u001b[1;33m(\u001b[0m\u001b[0mlen\u001b[0m\u001b[1;33m(\u001b[0m\u001b[0mstrs\u001b[0m\u001b[1;33m[\u001b[0m\u001b[0mi\u001b[0m\u001b[1;33m]\u001b[0m\u001b[1;33m)\u001b[0m\u001b[1;33m)\u001b[0m\u001b[1;33m)\u001b[0m\u001b[1;33m:\u001b[0m\u001b[1;33m\u001b[0m\u001b[1;33m\u001b[0m\u001b[0m\n\u001b[0m\u001b[0;32m      3\u001b[0m     \u001b[1;32mpass\u001b[0m\u001b[1;33m\u001b[0m\u001b[1;33m\u001b[0m\u001b[0m\n",
      "\u001b[1;31mNameError\u001b[0m: name 'i' is not defined"
     ]
    }
   ],
   "source": [
    "strs=[\"FLOWER\",\"FLOW\",\"FLIGHT\"]\n",
    "for i in range(min(len(strs[i]))):\n",
    "    pass\n"
   ]
  },
  {
   "cell_type": "code",
   "execution_count": 18,
   "id": "d8c8f03a",
   "metadata": {},
   "outputs": [],
   "source": [
    "def LongestCommonPrefix(strs:str):\n",
    "    res=''\n",
    "    min_length=min(len(i) for i in strs)\n",
    "    for x in range(min_length):\n",
    "        current_char=strs[0][x]\n",
    "        \n",
    "        for s in strs:\n",
    "            if s[x]!=current_char:\n",
    "                return res\n",
    "        res=res+current_char\n",
    "            \n",
    "    return res\n",
    "            \n",
    "    "
   ]
  },
  {
   "cell_type": "code",
   "execution_count": 19,
   "id": "e349d02a",
   "metadata": {},
   "outputs": [
    {
     "data": {
      "text/plain": [
       "'FL'"
      ]
     },
     "execution_count": 19,
     "metadata": {},
     "output_type": "execute_result"
    }
   ],
   "source": [
    "LongestCommonPrefix(strs=[\"FLOWER\",\"FLOW\",\"FLIGHT\"])"
   ]
  },
  {
   "cell_type": "code",
   "execution_count": 48,
   "id": "1016f901",
   "metadata": {},
   "outputs": [],
   "source": [
    "def RomanToInttt(s:str) ->int:\n",
    "    dictn={'I':1,'II':2,'III':3,'V':5,'X':10,'L':50,'C':100,'D':500,'M':1000}\n",
    "    prev_value=0\n",
    "    curr_value=0\n",
    "    total_value=0\n",
    "    for i in range(len(s)):\n",
    "        curr_value=dictn[s[i]]\n",
    "        if curr_value > prev_value:\n",
    "            total_value=(total_value+curr_value)-2*prev_value\n",
    "        else:\n",
    "            total_value=total_value+curr_value\n",
    "            \n",
    "        prev_value=curr_value\n",
    "        \n",
    "       \n",
    "    return total_value"
   ]
  },
  {
   "cell_type": "code",
   "execution_count": 50,
   "id": "f91b76dc",
   "metadata": {},
   "outputs": [
    {
     "data": {
      "text/plain": [
       "1994"
      ]
     },
     "execution_count": 50,
     "metadata": {},
     "output_type": "execute_result"
    }
   ],
   "source": [
    "RomanToInttt('MCMXCIV')"
   ]
  },
  {
   "cell_type": "code",
   "execution_count": 72,
   "id": "2512aaf0",
   "metadata": {},
   "outputs": [],
   "source": [
    "def TwoSumm(nums,target):\n",
    "    res={}\n",
    "    for i,v in enumerate(nums):\n",
    "        if target-v in res:\n",
    "            return res[target-v],i\n",
    "        else:\n",
    "            res[v]=i\n",
    "            "
   ]
  },
  {
   "cell_type": "code",
   "execution_count": 73,
   "id": "bca2113b",
   "metadata": {},
   "outputs": [
    {
     "data": {
      "text/plain": [
       "(0, 1)"
      ]
     },
     "execution_count": 73,
     "metadata": {},
     "output_type": "execute_result"
    }
   ],
   "source": [
    "TwoSumm([2,7,11,13],9)"
   ]
  },
  {
   "cell_type": "code",
   "execution_count": 74,
   "id": "ae2fdd51",
   "metadata": {},
   "outputs": [
    {
     "ename": "SyntaxError",
     "evalue": "invalid syntax (<ipython-input-74-9c05c24d0dbb>, line 2)",
     "output_type": "error",
     "traceback": [
      "\u001b[1;36m  File \u001b[1;32m\"<ipython-input-74-9c05c24d0dbb>\"\u001b[1;36m, line \u001b[1;32m2\u001b[0m\n\u001b[1;33m    dictn={'{':},'[':],'(':)}\u001b[0m\n\u001b[1;37m               ^\u001b[0m\n\u001b[1;31mSyntaxError\u001b[0m\u001b[1;31m:\u001b[0m invalid syntax\n"
     ]
    }
   ],
   "source": [
    "\n",
    "def is_balanaced_paranthesis(strs):\n",
    "    \n",
    "    stack=[]\n",
    "    bracket_map={'}':{,']':[,')':(}\n",
    "    open_brackets=set(['[','{','('])\n",
    "    for i in len(strs):\n",
    "        if strs[i] in open_brackets:\n",
    "                stack.append(i):\n",
    "                                  \n",
    "                            \n",
    "                            \n",
    "        else:\n",
    "            \n",
    "    "
   ]
  },
  {
   "cell_type": "code",
   "execution_count": null,
   "id": "daf2d140",
   "metadata": {},
   "outputs": [],
   "source": [
    "## Input: list1 = [1,2,4], list2 = [1,3,4]\n",
    "## Output: [1,1,2,3,4,4]"
   ]
  },
  {
   "cell_type": "code",
   "execution_count": 11,
   "id": "96ad9624",
   "metadata": {},
   "outputs": [],
   "source": [
    "def merged_list(list1,list2):\n",
    "    result=[]\n",
    "    i=0\n",
    "    j=0\n",
    "    \n",
    "    while i< len(list1) and j<len(list2):\n",
    "        if list1[i]<list2[j]:\n",
    "            result.append(list1[i])\n",
    "            i=i+1\n",
    "        else:\n",
    "            result.append(list2[j])\n",
    "            j=j+1\n",
    "    result=result+list1[i:]\n",
    "    result=result+list2[j:]\n",
    "    return result\n"
   ]
  },
  {
   "cell_type": "code",
   "execution_count": 12,
   "id": "d9ad5c6f",
   "metadata": {},
   "outputs": [
    {
     "name": "stdout",
     "output_type": "stream",
     "text": [
      "[1, 1, 2, 3, 4, 4]\n"
     ]
    }
   ],
   "source": [
    "vv=merged_list(list1 = [1,2,4], list2 = [1,3,4])\n",
    "print(vv)"
   ]
  },
  {
   "cell_type": "code",
   "execution_count": null,
   "id": "a90f4e55",
   "metadata": {},
   "outputs": [],
   "source": [
    "# factorial function"
   ]
  },
  {
   "cell_type": "code",
   "execution_count": 13,
   "id": "9b387c26",
   "metadata": {},
   "outputs": [],
   "source": [
    "def factrorial(n):\n",
    "    result=1\n",
    "    for i in range(1,n+1):\n",
    "        result=result*i\n",
    "    return result"
   ]
  },
  {
   "cell_type": "code",
   "execution_count": 15,
   "id": "61baa1c6",
   "metadata": {},
   "outputs": [
    {
     "name": "stdout",
     "output_type": "stream",
     "text": [
      "1\n"
     ]
    }
   ],
   "source": [
    "print(factrorial(0))"
   ]
  },
  {
   "cell_type": "code",
   "execution_count": 74,
   "id": "67b466e1",
   "metadata": {},
   "outputs": [],
   "source": [
    "# prime number"
   ]
  },
  {
   "cell_type": "code",
   "execution_count": 84,
   "id": "c801cd3e",
   "metadata": {},
   "outputs": [],
   "source": [
    "def is_prime_number(num):\n",
    "    if num<=1:\n",
    "        print('it is not prime number')\n",
    "    elif type(num) != int:\n",
    "        print(\"number should be intiger\")\n",
    "    else:\n",
    "        for i in range(2,int(num)):\n",
    "            if int(num%i)==0:\n",
    "                print('it is not prime number')\n",
    "                return\n",
    "            \n",
    "        else:\n",
    "            print('it is prime number')"
   ]
  },
  {
   "cell_type": "code",
   "execution_count": 85,
   "id": "a5389d09",
   "metadata": {},
   "outputs": [
    {
     "name": "stdout",
     "output_type": "stream",
     "text": [
      "it is not prime number\n"
     ]
    }
   ],
   "source": [
    "is_prime_number(9)"
   ]
  },
  {
   "cell_type": "code",
   "execution_count": 1,
   "id": "728dd966",
   "metadata": {},
   "outputs": [],
   "source": [
    "# second highest number in list"
   ]
  },
  {
   "cell_type": "code",
   "execution_count": 6,
   "id": "871d3fef",
   "metadata": {},
   "outputs": [],
   "source": [
    "def nth_highest_number(l: list, n: int):\n",
    "    result = sorted(l)\n",
    "    print(result)\n",
    "    return result[-n]\n",
    "    "
   ]
  },
  {
   "cell_type": "code",
   "execution_count": 7,
   "id": "2c47dc34",
   "metadata": {},
   "outputs": [
    {
     "name": "stdout",
     "output_type": "stream",
     "text": [
      "[1, 1, 1, 3, 3, 3, 3, 3, 4, 4, 4, 5, 5, 7, 8, 8, 8, 8, 8, 9]\n",
      "8\n"
     ]
    }
   ],
   "source": [
    "print(nth_highest_number([1,1,1,3,3,3,3,8,8,8,9,8,4,7,5,5,3,4,8,4],2))"
   ]
  },
  {
   "cell_type": "code",
   "execution_count": 153,
   "id": "3169b779",
   "metadata": {},
   "outputs": [],
   "source": [
    "# reverse the words"
   ]
  },
  {
   "cell_type": "code",
   "execution_count": 191,
   "id": "c0dbb58e",
   "metadata": {},
   "outputs": [
    {
     "data": {
      "text/plain": [
       "'YRTNUOC LUFITUAEB SI AIDNI'"
      ]
     },
     "execution_count": 191,
     "metadata": {},
     "output_type": "execute_result"
    }
   ],
   "source": [
    "n=\"INDIA IS BEAUTIFUL COUNTRY\"\n",
    "n[::-1]\n"
   ]
  },
  {
   "cell_type": "code",
   "execution_count": 36,
   "id": "b9fc577c",
   "metadata": {},
   "outputs": [],
   "source": [
    "# reverse the word using list comprehension"
   ]
  },
  {
   "cell_type": "code",
   "execution_count": 58,
   "id": "6cd3c5fb",
   "metadata": {},
   "outputs": [
    {
     "name": "stdout",
     "output_type": "stream",
     "text": [
      "YRTNUOC LUFITUAEB SI AIDNI\n"
     ]
    },
    {
     "data": {
      "text/plain": [
       "str"
      ]
     },
     "execution_count": 58,
     "metadata": {},
     "output_type": "execute_result"
    }
   ],
   "source": [
    "k=\"INDIA IS BEAUTIFUL COUNTRY\"\n",
    "l=[k]\n",
    "l=[word[::-1] for word in k.split()]\n",
    "l=l[::-1]\n",
    "l=\" \".join(l)\n",
    "print(l)\n",
    "type(l)\n",
    "        "
   ]
  },
  {
   "cell_type": "code",
   "execution_count": null,
   "id": "f5ee17f9",
   "metadata": {},
   "outputs": [],
   "source": [
    "## only INDIA is reversing"
   ]
  },
  {
   "cell_type": "code",
   "execution_count": 50,
   "id": "224a34a4",
   "metadata": {},
   "outputs": [
    {
     "name": "stdout",
     "output_type": "stream",
     "text": [
      "AIDNI IS BEAUTIFUL COUNTRY\n"
     ]
    }
   ],
   "source": [
    "p = ['INDIA IS BEAUTIFUL COUNTRY']\n",
    "m = \" \".join([word[::-1] if word=='INDIA'else word for sentence in p for word in sentence.split()])\n",
    "print(m)"
   ]
  },
  {
   "cell_type": "code",
   "execution_count": null,
   "id": "a2d1be9e",
   "metadata": {},
   "outputs": [],
   "source": [
    "## calculating number of spaces in sentances"
   ]
  },
  {
   "cell_type": "code",
   "execution_count": 59,
   "id": "1bd817a0",
   "metadata": {},
   "outputs": [
    {
     "data": {
      "text/plain": [
       "3"
      ]
     },
     "execution_count": 59,
     "metadata": {},
     "output_type": "execute_result"
    }
   ],
   "source": [
    "k=\"INDIA IS BEAUTIFUL COUNTRY\"\n",
    "k.count(\" \")\n"
   ]
  },
  {
   "cell_type": "code",
   "execution_count": null,
   "id": "179b8a95",
   "metadata": {},
   "outputs": [],
   "source": [
    "## calculating the number of letters in each words\n"
   ]
  },
  {
   "cell_type": "code",
   "execution_count": 104,
   "id": "0f54d13e",
   "metadata": {},
   "outputs": [
    {
     "name": "stdout",
     "output_type": "stream",
     "text": [
      "[5, 2, 9, 7]\n"
     ]
    }
   ],
   "source": [
    "k=[\"INDIA IS BEAUTIFUL COUNTRY\"]\n",
    "k=[word for word in k[0].split()] ## ['INDIA', 'IS', 'BEAUTIFUL', 'COUNTRY']\n",
    "\n",
    "m=[]\n",
    "for word in k:\n",
    "    count=0\n",
    "    for char in word:\n",
    "        count=count+1\n",
    "    m.append(count)\n",
    "print(m)\n",
    "    \n",
    "    \n",
    "    \n"
   ]
  },
  {
   "cell_type": "code",
   "execution_count": null,
   "id": "66b102a9",
   "metadata": {},
   "outputs": [],
   "source": []
  },
  {
   "cell_type": "code",
   "execution_count": null,
   "id": "d5ec14f2",
   "metadata": {},
   "outputs": [],
   "source": []
  }
 ],
 "metadata": {
  "kernelspec": {
   "display_name": "Python 3",
   "language": "python",
   "name": "python3"
  },
  "language_info": {
   "codemirror_mode": {
    "name": "ipython",
    "version": 3
   },
   "file_extension": ".py",
   "mimetype": "text/x-python",
   "name": "python",
   "nbconvert_exporter": "python",
   "pygments_lexer": "ipython3",
   "version": "3.8.8"
  },
  "vscode": {
   "interpreter": {
    "hash": "5238573367df39f7286bb46f9ff5f08f63a01a80960060ce41e3c79b190280fa"
   }
  }
 },
 "nbformat": 4,
 "nbformat_minor": 5
}
